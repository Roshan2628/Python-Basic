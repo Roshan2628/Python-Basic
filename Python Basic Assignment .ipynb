{
 "cells": [
  {
   "cell_type": "code",
   "execution_count": 2,
   "id": "e320be0a-27c7-4e3c-bd0d-f88ff0148102",
   "metadata": {},
   "outputs": [
    {
     "name": "stdout",
     "output_type": "stream",
     "text": [
      "Hello Everyone Good Morning\n"
     ]
    }
   ],
   "source": [
    "## 1. Simple Message: Store a message in a variable, and then print that message. \n",
    "a = \"Hello Everyone Good Morning\"\n",
    "print(a)"
   ]
  },
  {
   "cell_type": "code",
   "execution_count": 4,
   "id": "42083343-40dd-44b9-b6c7-e376d1b08178",
   "metadata": {},
   "outputs": [
    {
     "name": "stdout",
     "output_type": "stream",
     "text": [
      "Hello Everyone Good Morning\n",
      "How are you\n"
     ]
    }
   ],
   "source": [
    "## Store a message in a variable and print that message. Then change the  value of your variable to a new message and print the new message. \n",
    "a = \"Hello Everyone Good Morning\"\n",
    "b = \"How are you\"\n",
    "print(a)\n",
    "print(b)"
   ]
  },
  {
   "cell_type": "code",
   "execution_count": 17,
   "id": "e8ade0e0-925f-464e-bb61-5f399538970c",
   "metadata": {},
   "outputs": [
    {
     "name": "stdout",
     "output_type": "stream",
     "text": [
      "Eric\n"
     ]
    }
   ],
   "source": [
    "##Store a person’s name in a variable and print a message to that person. Your message should be simple, such as, “Hello Eric, would you like to learn some Python today?”\n",
    "name = \"Eric\"\n",
    "print(name)\n"
   ]
  },
  {
   "cell_type": "code",
   "execution_count": 18,
   "id": "57d5e259-340f-44ed-b647-31d9a41de7b9",
   "metadata": {},
   "outputs": [
    {
     "name": "stdout",
     "output_type": "stream",
     "text": [
      "Hello {name}, would you like to learn some Python today?\n"
     ]
    }
   ],
   "source": [
    "print(\"Hello {name}, would you like to learn some Python today?\")\n"
   ]
  },
  {
   "cell_type": "code",
   "execution_count": null,
   "id": "996b4c8d-9c58-4a8a-9a8d-23ee38300ee4",
   "metadata": {},
   "outputs": [],
   "source": [
    "##Find a quote from a famous person you admire. Print the quote and the  name of its author.\n",
    "## Your output should look something like the following, \n",
    "## including the quotation marks: Albert Einstein once said, “A person who never made a mistake never tried anything new.” "
   ]
  },
  {
   "cell_type": "code",
   "execution_count": 25,
   "id": "bfd45459-2e27-42d3-8d0f-f042d9a55155",
   "metadata": {},
   "outputs": [
    {
     "name": "stdout",
     "output_type": "stream",
     "text": [
      "Albert Einstein\n",
      "“A person who never made a mistake never tried anything new.”\n"
     ]
    }
   ],
   "source": [
    "author = \"Albert Einstein\"\n",
    "auote  = \"“A person who never made a mistake never tried anything new.”\"\n",
    "print(author)\n",
    "print(auote)\n"
   ]
  },
  {
   "cell_type": "code",
   "execution_count": 38,
   "id": "b1c40eb5-1a36-4d41-bc3a-ae225acda572",
   "metadata": {},
   "outputs": [
    {
     "name": "stdout",
     "output_type": "stream",
     "text": [
      "Steve Jobs said that , “A person who never made a mistake never tried anything new.”\n"
     ]
    }
   ],
   "source": [
    "print (f'{author} said that , {auote}')"
   ]
  },
  {
   "cell_type": "code",
   "execution_count": 39,
   "id": "47dd27df-d9de-491f-b884-f5f372e09156",
   "metadata": {},
   "outputs": [
    {
     "name": "stdout",
     "output_type": "stream",
     "text": [
      "Mahatma Gandhi\n",
      "Be the change that you wish to see in the world.\n"
     ]
    }
   ],
   "source": [
    "## Repeat Exercise 4, but this time store the famous person’s name in a variable called famous_person. \n",
    "##Then compose your message and store it in  a new variable called message. Print your message. \n",
    "\n",
    "famous_person = \"Mahatma Gandhi\"\n",
    "quote = \"Be the change that you wish to see in the world.\"\n",
    "print(famous_person)\n",
    "print(quote)"
   ]
  },
  {
   "cell_type": "code",
   "execution_count": 42,
   "id": "7fce750b-caf0-44c6-b86e-71a211b75ee7",
   "metadata": {},
   "outputs": [
    {
     "name": "stdout",
     "output_type": "stream",
     "text": [
      "Mahatma Gandhi sai that , Be the change that you wish to see in the world.\n"
     ]
    }
   ],
   "source": [
    "print(f'{famous_person} sai that , {quote}')"
   ]
  },
  {
   "cell_type": "code",
   "execution_count": 47,
   "id": "f4475117-a8a2-41d2-bd65-e89c15ec9cc7",
   "metadata": {},
   "outputs": [
    {
     "name": "stdout",
     "output_type": "stream",
     "text": [
      "8\n",
      "8\n",
      "8\n",
      "8.0\n"
     ]
    }
   ],
   "source": [
    "## Write addition, subtraction, multiplication, and division operations that  each result in the number 8. Be sure to enclose your operations in print \n",
    "##statements to see the results. You should create four lines that look like this:    print (5 + 3) Your output should simply be four lines with the number 8 appearing once on each line.\n",
    "\n",
    "\n",
    "add =(5+3)\n",
    "sub =(10-2)\n",
    "Multi = (4*2)\n",
    "div =(64 / 8)\n",
    "print(add)\n",
    "print(sub)\n",
    "print(Multi)\n",
    "print(div)\n"
   ]
  },
  {
   "cell_type": "code",
   "execution_count": 50,
   "id": "52943c5c-3a66-4f30-b774-c972fb0d6d43",
   "metadata": {},
   "outputs": [
    {
     "name": "stdout",
     "output_type": "stream",
     "text": [
      "My Favourite number is {8}\n"
     ]
    }
   ],
   "source": [
    "##Store your favourite number in a variable. Then, using that variable, create a message that reveals your favourite number. Print that message. \n",
    "\n",
    "favourite_number = 8 \n",
    "message = \"My Favourite number is {8}\"\n",
    "print(message)"
   ]
  },
  {
   "cell_type": "code",
   "execution_count": 55,
   "id": "4e1ef415-8dba-490b-8f49-1919cec700f9",
   "metadata": {},
   "outputs": [
    {
     "name": "stdout",
     "output_type": "stream",
     "text": [
      "My Favourite number is {8} , My mane is {Roshan}, today Date is {1-10-2024}\n"
     ]
    }
   ],
   "source": [
    "##Choose two of the programs you’ve written and add at least one comment to each. If you don’t have anything specific to write because your programs \n",
    "## are too simple at this point, just add your name and the current date at the top of each program file. Then write one sentence describing what the program does.\n",
    "Name = 'Roshan'\n",
    "Date = 1-10-2024\n",
    "favourite_number = 8 \n",
    "message = (\"My Favourite number is {8} , My mane is {Roshan}, today Date is {1-10-2024}\" )\n",
    "print(message)\n"
   ]
  },
  {
   "cell_type": "code",
   "execution_count": 58,
   "id": "84ea8165-32e6-4453-b84b-8598095764c7",
   "metadata": {},
   "outputs": [
    {
     "name": "stdout",
     "output_type": "stream",
     "text": [
      "Albert Einstein\n",
      "“A person who never made a mistake never tried anything new.”\n",
      "{Albert Einstein} said that , {A person who never made a mistake never tried anything new} ,My mane is {Roshan}, today Date is {1-10-2024}\n"
     ]
    }
   ],
   "source": [
    "Name = 'Roshan'\n",
    "Date = 1-10-2024\n",
    "author = \"Albert Einstein\"\n",
    "auote  = \"“A person who never made a mistake never tried anything new.”\"\n",
    "print(author)\n",
    "print(auote)\n",
    "message1 =  (\"{Albert Einstein} said that , {A person who never made a mistake never tried anything new} ,My mane is {Roshan}, today Date is {1-10-2024}\")\n",
    "print(message1)"
   ]
  },
  {
   "cell_type": "code",
   "execution_count": 59,
   "id": "8fa4d82c-d7d2-4548-b1b9-c8ba0807548e",
   "metadata": {},
   "outputs": [
    {
     "data": {
      "text/plain": [
       "['Ram', 'Shyam', 'Raju']"
      ]
     },
     "execution_count": 59,
     "metadata": {},
     "output_type": "execute_result"
    }
   ],
   "source": [
    "##Store the names of a few of your friends in a list called names. Print each person’s name by accessing each element in the list, one at a time. \n",
    "\n",
    "name = ['Ram','Shyam','Raju']\n",
    "name"
   ]
  },
  {
   "cell_type": "code",
   "execution_count": 60,
   "id": "4dc47a4a-d91c-4dec-828c-16eb7a949f73",
   "metadata": {},
   "outputs": [
    {
     "name": "stdout",
     "output_type": "stream",
     "text": [
      "Ram\n",
      "Shyam\n",
      "Raju\n"
     ]
    }
   ],
   "source": [
    "print(name[0])\n",
    "print(name[1])\n",
    "print(name[2])"
   ]
  },
  {
   "cell_type": "code",
   "execution_count": 61,
   "id": "79cc68a8-7069-4e80-9bf3-a1534dab9722",
   "metadata": {},
   "outputs": [
    {
     "data": {
      "text/plain": [
       "['Ram', 'Shyam', 'Raju']"
      ]
     },
     "execution_count": 61,
     "metadata": {},
     "output_type": "execute_result"
    }
   ],
   "source": [
    " ##Start with the list you used in Exercise 9, but instead of just printing each  person’s name, print a message to them. The text of each message should \n",
    "##be the same, but each message should be personalized with the person’s name. \n",
    "\n",
    "name = ['Ram','Shyam','Raju']\n",
    "name"
   ]
  },
  {
   "cell_type": "code",
   "execution_count": 67,
   "id": "bce9f9c0-edf7-4f38-a4ce-fb31afc2aebd",
   "metadata": {},
   "outputs": [
    {
     "name": "stdout",
     "output_type": "stream",
     "text": [
      "Hello How are you - Ram\n",
      "Hello How are you - Shyam\n",
      "Hello How are you - Raju\n"
     ]
    }
   ],
   "source": [
    "print('Hello How are you - Ram')\n",
    "print('Hello How are you - Shyam')\n",
    "print('Hello How are you - Raju')"
   ]
  },
  {
   "cell_type": "code",
   "execution_count": 71,
   "id": "7aac9f4c-bb4d-4b15-bc03-239f23313248",
   "metadata": {},
   "outputs": [
    {
     "name": "stdout",
     "output_type": "stream",
     "text": [
      "fz\n",
      "bullet\n"
     ]
    }
   ],
   "source": [
    "## Think of your favourite mode of transportation, such as a motorcycle or a car, and make a list that stores several examples. Use your list to print a \n",
    "##series of statements about these items, such as “I would like to own a  Honda motorcycle.”\n",
    "fav_mode1 = \"fz\"\n",
    "fav_mode2 = \"bullet\"\n",
    "print(fav_mode1)\n",
    "print(fav_mode2)"
   ]
  },
  {
   "cell_type": "code",
   "execution_count": 72,
   "id": "f2b9c24b-5c38-45ee-8cec-90311de7b196",
   "metadata": {},
   "outputs": [
    {
     "name": "stdout",
     "output_type": "stream",
     "text": [
      "I would like to own a  motorcycle -  fz\n",
      "I would like to own a  motorcycle -  bullet\n"
     ]
    }
   ],
   "source": [
    "print('I would like to own a  motorcycle - ',fav_mode1)\n",
    "print('I would like to own a  motorcycle - ',fav_mode2)"
   ]
  },
  {
   "cell_type": "code",
   "execution_count": null,
   "id": "ae22b91d-8277-4888-aa38-b9886d5d79c8",
   "metadata": {},
   "outputs": [],
   "source": []
  }
 ],
 "metadata": {
  "kernelspec": {
   "display_name": "Python 3 (ipykernel)",
   "language": "python",
   "name": "python3"
  },
  "language_info": {
   "codemirror_mode": {
    "name": "ipython",
    "version": 3
   },
   "file_extension": ".py",
   "mimetype": "text/x-python",
   "name": "python",
   "nbconvert_exporter": "python",
   "pygments_lexer": "ipython3",
   "version": "3.11.7"
  }
 },
 "nbformat": 4,
 "nbformat_minor": 5
}
